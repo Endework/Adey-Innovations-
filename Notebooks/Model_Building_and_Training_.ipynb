{
  "nbformat": 4,
  "nbformat_minor": 0,
  "metadata": {
    "colab": {
      "provenance": []
    },
    "kernelspec": {
      "name": "python3",
      "display_name": "Python 3"
    },
    "language_info": {
      "name": "python"
    }
  },
  "cells": [
    {
      "cell_type": "code",
      "source": [
        "import pandas as pd\n",
        "import numpy as np"
      ],
      "metadata": {
        "id": "O7s2TTnqry8Q"
      },
      "execution_count": 42,
      "outputs": []
    },
    {
      "cell_type": "code",
      "source": [
        "df_fraud=pd.read_csv('fraud_preprocessed.csv')\n",
        "df_credit=pd.read_csv('credit_clean.csv')"
      ],
      "metadata": {
        "id": "4If7t2Jqr2U8"
      },
      "execution_count": 43,
      "outputs": []
    },
    {
      "cell_type": "code",
      "source": [
        "df_fraud.head()"
      ],
      "metadata": {
        "id": "dMVa7ibTscwN"
      },
      "execution_count": null,
      "outputs": []
    },
    {
      "cell_type": "code",
      "source": [
        "df_credit.head()"
      ],
      "metadata": {
        "id": "rGRdu7Wcsk_F"
      },
      "execution_count": null,
      "outputs": []
    },
    {
      "cell_type": "code",
      "source": [
        "pip install mlflow"
      ],
      "metadata": {
        "id": "0Iph8NJtupLF"
      },
      "execution_count": null,
      "outputs": []
    },
    {
      "cell_type": "code",
      "source": [
        "import pandas as pd\n",
        "from sklearn.model_selection import train_test_split\n",
        "from sklearn.linear_model import LogisticRegression\n",
        "from sklearn.tree import DecisionTreeClassifier\n",
        "from sklearn.ensemble import RandomForestClassifier, GradientBoostingClassifier\n",
        "from sklearn.neural_network import MLPClassifier\n",
        "from sklearn.metrics import classification_report, accuracy_score, precision_score, recall_score, f1_score\n",
        "from sklearn.impute import SimpleImputer\n",
        "import mlflow\n",
        "import mlflow.sklearn\n",
        "from tensorflow.keras.models import Sequential\n",
        "from tensorflow.keras.layers import Conv1D, MaxPooling1D, Flatten, Dense, SimpleRNN, LSTM"
      ],
      "metadata": {
        "id": "asOcTJHXujkZ"
      },
      "execution_count": 44,
      "outputs": []
    },
    {
      "cell_type": "code",
      "source": [
        "def preprocess_fraud_data(df):\n",
        "    df['signup_time'] = pd.to_datetime(df['signup_time'])\n",
        "    df['purchase_time'] = pd.to_datetime(df['purchase_time'])\n",
        "    df = df.drop(['signup_time', 'purchase_time', 'user_id', 'device_id'], axis=1)\n",
        "    return df\n",
        "\n",
        "df_fraud = preprocess_fraud_data(df_fraud)"
      ],
      "metadata": {
        "id": "z1DVa019w6JM"
      },
      "execution_count": 45,
      "outputs": []
    },
    {
      "cell_type": "code",
      "source": [
        "# Impute missing values\n",
        "imputer = SimpleImputer(strategy='mean')\n",
        "df_fraud = pd.DataFrame(imputer.fit_transform(df_fraud), columns=df_fraud.columns)\n",
        "df_credit = pd.DataFrame(imputer.fit_transform(df_credit), columns=df_credit.columns)"
      ],
      "metadata": {
        "id": "-jdwwTDqu85G"
      },
      "execution_count": 46,
      "outputs": []
    },
    {
      "cell_type": "code",
      "source": [
        "# Ensure target variables are binary\n",
        "df_fraud['class'] = df_fraud['class'].astype(int)\n",
        "df_credit['Class'] = df_credit['Class'].astype(int)"
      ],
      "metadata": {
        "id": "GW1D_4g9y9ii"
      },
      "execution_count": 47,
      "outputs": []
    },
    {
      "cell_type": "code",
      "source": [
        "# Separate features and target for Fraud_Data\n",
        "X_fraud = df_fraud.drop('class', axis=1)\n",
        "y_fraud = df_fraud['class']\n",
        "\n",
        "# Separate features and target for creditcard data\n",
        "X_credit = df_credit.drop('Class', axis=1)\n",
        "y_credit = df_credit['Class']\n",
        "\n",
        "# Train-test split for Fraud_Data\n",
        "X_fraud_train, X_fraud_test, y_fraud_train, y_fraud_test = train_test_split(X_fraud, y_fraud, test_size=0.3, random_state=42)\n",
        "\n",
        "# Train-test split for creditcard data\n",
        "X_credit_train, X_credit_test, y_credit_train, y_credit_test = train_test_split(X_credit, y_credit, test_size=0.3, random_state=42)"
      ],
      "metadata": {
        "id": "AAvOBuuSvLek"
      },
      "execution_count": 48,
      "outputs": []
    },
    {
      "cell_type": "code",
      "source": [
        "# Model training and evaluation function\n",
        "def train_and_evaluate_model(model, X_train, y_train, X_test, y_test, model_name):\n",
        "    model.fit(X_train, y_train)\n",
        "    y_pred = model.predict(X_test)\n",
        "    print(f\"Performance of {model_name}:\")\n",
        "    print(classification_report(y_test, y_pred))\n",
        "\n",
        "    # Log model and metrics with MLflow\n",
        "    with mlflow.start_run():\n",
        "        mlflow.sklearn.log_model(model, model_name)\n",
        "        mlflow.log_param(\"model_type\", model_name)\n",
        "        mlflow.log_metric(\"accuracy\", accuracy_score(y_test, y_pred))\n",
        "        mlflow.log_metric(\"precision\", precision_score(y_test, y_pred))\n",
        "        mlflow.log_metric(\"recall\", recall_score(y_test, y_pred))\n",
        "        mlflow.log_metric(\"f1_score\", f1_score(y_test, y_pred))"
      ],
      "metadata": {
        "id": "OMOYfzpkxYW5"
      },
      "execution_count": 49,
      "outputs": []
    },
    {
      "cell_type": "code",
      "source": [
        "# Logistic Regression\n",
        "log_reg = LogisticRegression()\n",
        "train_and_evaluate_model(log_reg, X_fraud_train, y_fraud_train, X_fraud_test, y_fraud_test, \"Logistic Regression\")\n",
        "\n"
      ],
      "metadata": {
        "colab": {
          "base_uri": "https://localhost:8080/"
        },
        "id": "9l3kYTMxvVUQ",
        "outputId": "70923342-355f-48d4-d956-95598cfd5a56"
      },
      "execution_count": 50,
      "outputs": [
        {
          "output_type": "stream",
          "name": "stdout",
          "text": [
            "Performance of Logistic Regression:\n",
            "              precision    recall  f1-score   support\n",
            "\n",
            "           0       0.91      1.00      0.95     16675\n",
            "           1       0.00      0.00      0.00      1733\n",
            "\n",
            "    accuracy                           0.91     18408\n",
            "   macro avg       0.45      0.50      0.48     18408\n",
            "weighted avg       0.82      0.91      0.86     18408\n",
            "\n"
          ]
        },
        {
          "output_type": "stream",
          "name": "stderr",
          "text": [
            "/usr/local/lib/python3.10/dist-packages/sklearn/metrics/_classification.py:1344: UndefinedMetricWarning: Precision and F-score are ill-defined and being set to 0.0 in labels with no predicted samples. Use `zero_division` parameter to control this behavior.\n",
            "  _warn_prf(average, modifier, msg_start, len(result))\n",
            "/usr/local/lib/python3.10/dist-packages/sklearn/metrics/_classification.py:1344: UndefinedMetricWarning: Precision and F-score are ill-defined and being set to 0.0 in labels with no predicted samples. Use `zero_division` parameter to control this behavior.\n",
            "  _warn_prf(average, modifier, msg_start, len(result))\n",
            "/usr/local/lib/python3.10/dist-packages/sklearn/metrics/_classification.py:1344: UndefinedMetricWarning: Precision and F-score are ill-defined and being set to 0.0 in labels with no predicted samples. Use `zero_division` parameter to control this behavior.\n",
            "  _warn_prf(average, modifier, msg_start, len(result))\n",
            "/usr/local/lib/python3.10/dist-packages/sklearn/metrics/_classification.py:1344: UndefinedMetricWarning: Precision is ill-defined and being set to 0.0 due to no predicted samples. Use `zero_division` parameter to control this behavior.\n",
            "  _warn_prf(average, modifier, msg_start, len(result))\n"
          ]
        }
      ]
    },
    {
      "cell_type": "code",
      "source": [
        "# Logistic Regression\n",
        "log_reg = LogisticRegression()\n",
        "train_and_evaluate_model(log_reg, X_credit_train, y_credit_train, X_credit_test, y_credit_test, \"Logistic Regression\")\n",
        "\n"
      ],
      "metadata": {
        "colab": {
          "base_uri": "https://localhost:8080/"
        },
        "id": "ZzcvnLiV1aIu",
        "outputId": "c3380c46-10ff-41b7-a801-659776ef54de"
      },
      "execution_count": 61,
      "outputs": [
        {
          "output_type": "stream",
          "name": "stderr",
          "text": [
            "/usr/local/lib/python3.10/dist-packages/sklearn/linear_model/_logistic.py:458: ConvergenceWarning: lbfgs failed to converge (status=1):\n",
            "STOP: TOTAL NO. of ITERATIONS REACHED LIMIT.\n",
            "\n",
            "Increase the number of iterations (max_iter) or scale the data as shown in:\n",
            "    https://scikit-learn.org/stable/modules/preprocessing.html\n",
            "Please also refer to the documentation for alternative solver options:\n",
            "    https://scikit-learn.org/stable/modules/linear_model.html#logistic-regression\n",
            "  n_iter_i = _check_optimize_result(\n"
          ]
        },
        {
          "output_type": "stream",
          "name": "stdout",
          "text": [
            "Performance of Logistic Regression:\n",
            "              precision    recall  f1-score   support\n",
            "\n",
            "           0       1.00      1.00      1.00     30215\n",
            "           1       0.75      0.55      0.64        65\n",
            "\n",
            "    accuracy                           1.00     30280\n",
            "   macro avg       0.87      0.78      0.82     30280\n",
            "weighted avg       1.00      1.00      1.00     30280\n",
            "\n"
          ]
        }
      ]
    },
    {
      "cell_type": "code",
      "source": [
        "# Decision Tree\n",
        "dt = DecisionTreeClassifier()\n",
        "train_and_evaluate_model(dt, X_fraud_train, y_fraud_train, X_fraud_test, y_fraud_test, \"Decision Tree\")\n",
        "\n"
      ],
      "metadata": {
        "colab": {
          "base_uri": "https://localhost:8080/"
        },
        "id": "EVCFBl_nvZU_",
        "outputId": "4f2f1bb9-05a5-4281-aba0-638ddf425ce0"
      },
      "execution_count": 51,
      "outputs": [
        {
          "output_type": "stream",
          "name": "stdout",
          "text": [
            "Performance of Decision Tree:\n",
            "              precision    recall  f1-score   support\n",
            "\n",
            "           0       0.95      0.93      0.94     16675\n",
            "           1       0.44      0.56      0.49      1733\n",
            "\n",
            "    accuracy                           0.89     18408\n",
            "   macro avg       0.69      0.74      0.71     18408\n",
            "weighted avg       0.90      0.89      0.90     18408\n",
            "\n"
          ]
        }
      ]
    },
    {
      "cell_type": "code",
      "source": [
        "# Decision Tree\n",
        "dt = DecisionTreeClassifier()\n",
        "train_and_evaluate_model(dt, X_credit_train, y_credit_train, X_credit_test, y_credit_test, \"Decision Tree\")\n",
        "\n"
      ],
      "metadata": {
        "colab": {
          "base_uri": "https://localhost:8080/"
        },
        "id": "zJrpiRHn1q46",
        "outputId": "35337f31-b07d-4d65-d099-317f30a9b362"
      },
      "execution_count": 62,
      "outputs": [
        {
          "output_type": "stream",
          "name": "stdout",
          "text": [
            "Performance of Decision Tree:\n",
            "              precision    recall  f1-score   support\n",
            "\n",
            "           0       1.00      1.00      1.00     30215\n",
            "           1       0.77      0.82      0.79        65\n",
            "\n",
            "    accuracy                           1.00     30280\n",
            "   macro avg       0.88      0.91      0.90     30280\n",
            "weighted avg       1.00      1.00      1.00     30280\n",
            "\n"
          ]
        }
      ]
    },
    {
      "cell_type": "code",
      "source": [
        "# Random Forest\n",
        "rf = RandomForestClassifier()\n",
        "train_and_evaluate_model(rf, X_credit_train, y_credit_train, X_credit_test, y_credit_test, \"Random Forest\")\n",
        "\n"
      ],
      "metadata": {
        "colab": {
          "base_uri": "https://localhost:8080/"
        },
        "id": "-3Eoh-yDvcvM",
        "outputId": "65f5f4a3-f56c-4f9d-9249-41de8e921b5e"
      },
      "execution_count": 52,
      "outputs": [
        {
          "output_type": "stream",
          "name": "stdout",
          "text": [
            "Performance of Random Forest:\n",
            "              precision    recall  f1-score   support\n",
            "\n",
            "           0       1.00      1.00      1.00     30215\n",
            "           1       0.98      0.91      0.94        65\n",
            "\n",
            "    accuracy                           1.00     30280\n",
            "   macro avg       0.99      0.95      0.97     30280\n",
            "weighted avg       1.00      1.00      1.00     30280\n",
            "\n"
          ]
        }
      ]
    },
    {
      "cell_type": "code",
      "source": [
        "# Random Forest\n",
        "rf = RandomForestClassifier()\n",
        "train_and_evaluate_model(rf, X_fraud_train, y_fraud_train, X_fraud_test, y_fraud_test, \"Random Forest\")\n",
        "\n"
      ],
      "metadata": {
        "colab": {
          "base_uri": "https://localhost:8080/"
        },
        "id": "tuhNUCxy1yiW",
        "outputId": "1d192bc2-596d-4d43-9ad8-c0980b44678a"
      },
      "execution_count": 63,
      "outputs": [
        {
          "output_type": "stream",
          "name": "stdout",
          "text": [
            "Performance of Random Forest:\n",
            "              precision    recall  f1-score   support\n",
            "\n",
            "           0       0.95      1.00      0.98     16675\n",
            "           1       0.99      0.52      0.68      1733\n",
            "\n",
            "    accuracy                           0.95     18408\n",
            "   macro avg       0.97      0.76      0.83     18408\n",
            "weighted avg       0.96      0.95      0.95     18408\n",
            "\n"
          ]
        }
      ]
    },
    {
      "cell_type": "code",
      "source": [
        "# Gradient Boosting\n",
        "gb = GradientBoostingClassifier()\n",
        "train_and_evaluate_model(gb, X_fraud_train, y_fraud_train, X_fraud_test, y_fraud_test, \"Gradient Boosting\")\n",
        "\n"
      ],
      "metadata": {
        "colab": {
          "base_uri": "https://localhost:8080/"
        },
        "id": "nFJYQtZ1vhwi",
        "outputId": "11c9d243-8c37-4862-9af3-537302854e99"
      },
      "execution_count": 53,
      "outputs": [
        {
          "output_type": "stream",
          "name": "stdout",
          "text": [
            "Performance of Gradient Boosting:\n",
            "              precision    recall  f1-score   support\n",
            "\n",
            "           0       0.91      1.00      0.95     16675\n",
            "           1       0.77      0.01      0.01      1733\n",
            "\n",
            "    accuracy                           0.91     18408\n",
            "   macro avg       0.84      0.50      0.48     18408\n",
            "weighted avg       0.89      0.91      0.86     18408\n",
            "\n"
          ]
        }
      ]
    },
    {
      "cell_type": "code",
      "source": [
        "# Gradient Boosting\n",
        "gb = GradientBoostingClassifier()\n",
        "train_and_evaluate_model(gb,  X_credit_train, y_credit_train, X_credit_test, y_credit_test, \"Gradient Boosting\")\n",
        "\n"
      ],
      "metadata": {
        "colab": {
          "base_uri": "https://localhost:8080/"
        },
        "id": "sDQWzO5v16LE",
        "outputId": "4118bd22-9d19-4dae-acba-de8aa5b3116a"
      },
      "execution_count": 64,
      "outputs": [
        {
          "output_type": "stream",
          "name": "stdout",
          "text": [
            "Performance of Gradient Boosting:\n",
            "              precision    recall  f1-score   support\n",
            "\n",
            "           0       1.00      1.00      1.00     30215\n",
            "           1       0.93      0.85      0.89        65\n",
            "\n",
            "    accuracy                           1.00     30280\n",
            "   macro avg       0.97      0.92      0.94     30280\n",
            "weighted avg       1.00      1.00      1.00     30280\n",
            "\n"
          ]
        }
      ]
    },
    {
      "cell_type": "code",
      "source": [
        "# Multi-Layer Perceptron (MLP)\n",
        "mlp = MLPClassifier()\n",
        "train_and_evaluate_model(mlp, X_credit_train, y_credit_train, X_credit_test, y_credit_test, \"MLP\")\n",
        "\n"
      ],
      "metadata": {
        "colab": {
          "base_uri": "https://localhost:8080/"
        },
        "id": "4TowuF0gvkvp",
        "outputId": "9b5c69ab-b3c2-4a6b-fe13-e303e5c9d257"
      },
      "execution_count": 54,
      "outputs": [
        {
          "output_type": "stream",
          "name": "stdout",
          "text": [
            "Performance of MLP:\n",
            "              precision    recall  f1-score   support\n",
            "\n",
            "           0       1.00      1.00      1.00     30215\n",
            "           1       0.67      0.03      0.06        65\n",
            "\n",
            "    accuracy                           1.00     30280\n",
            "   macro avg       0.83      0.52      0.53     30280\n",
            "weighted avg       1.00      1.00      1.00     30280\n",
            "\n"
          ]
        }
      ]
    },
    {
      "cell_type": "code",
      "source": [
        "# Multi-Layer Perceptron (MLP)\n",
        "mlp = MLPClassifier()\n",
        "train_and_evaluate_model(mlp, X_fraud_train, y_fraud_train, X_fraud_test, y_fraud_test, \"MLP\")\n",
        "\n"
      ],
      "metadata": {
        "colab": {
          "base_uri": "https://localhost:8080/"
        },
        "id": "t-U6FcRn2CCb",
        "outputId": "2d7e5d7e-368c-4c5b-dbc6-398765a567cf"
      },
      "execution_count": 65,
      "outputs": [
        {
          "output_type": "stream",
          "name": "stdout",
          "text": [
            "Performance of MLP:\n",
            "              precision    recall  f1-score   support\n",
            "\n",
            "           0       0.00      0.00      0.00     16675\n",
            "           1       0.09      1.00      0.17      1733\n",
            "\n",
            "    accuracy                           0.09     18408\n",
            "   macro avg       0.05      0.50      0.09     18408\n",
            "weighted avg       0.01      0.09      0.02     18408\n",
            "\n"
          ]
        },
        {
          "output_type": "stream",
          "name": "stderr",
          "text": [
            "/usr/local/lib/python3.10/dist-packages/sklearn/metrics/_classification.py:1344: UndefinedMetricWarning: Precision and F-score are ill-defined and being set to 0.0 in labels with no predicted samples. Use `zero_division` parameter to control this behavior.\n",
            "  _warn_prf(average, modifier, msg_start, len(result))\n",
            "/usr/local/lib/python3.10/dist-packages/sklearn/metrics/_classification.py:1344: UndefinedMetricWarning: Precision and F-score are ill-defined and being set to 0.0 in labels with no predicted samples. Use `zero_division` parameter to control this behavior.\n",
            "  _warn_prf(average, modifier, msg_start, len(result))\n",
            "/usr/local/lib/python3.10/dist-packages/sklearn/metrics/_classification.py:1344: UndefinedMetricWarning: Precision and F-score are ill-defined and being set to 0.0 in labels with no predicted samples. Use `zero_division` parameter to control this behavior.\n",
            "  _warn_prf(average, modifier, msg_start, len(result))\n"
          ]
        }
      ]
    },
    {
      "cell_type": "code",
      "source": [
        "# Neural Network model architectures and training\n",
        "def train_nn_model(model, X_train, y_train, X_test, y_test, model_name):\n",
        "    model.compile(optimizer='adam', loss='binary_crossentropy', metrics=['accuracy'])\n",
        "    model.fit(X_train, y_train, epochs=10, batch_size=32, validation_data=(X_test, y_test))\n",
        "\n",
        "    # Log model and metrics with MLflow\n",
        "    with mlflow.start_run():\n",
        "        mlflow.keras.log_model(model, model_name)\n",
        "        loss, accuracy = model.evaluate(X_test, y_test)\n",
        "        mlflow.log_metric(\"accuracy\", accuracy)\n",
        "\n"
      ],
      "metadata": {
        "id": "9VbrBvzuvoRu"
      },
      "execution_count": 55,
      "outputs": []
    },
    {
      "cell_type": "code",
      "source": [
        "# Reshape data for CNN and RNN models\n",
        "X_fraud_train_cnn_rnn = X_fraud_train.values.reshape((X_fraud_train.shape[0], X_fraud_train.shape[1], 1))\n",
        "X_fraud_test_cnn_rnn = X_fraud_test.values.reshape((X_fraud_test.shape[0], X_fraud_test.shape[1], 1))\n",
        "X_credit_train_cnn_rnn = X_credit_train.values.reshape((X_credit_train.shape[0], X_credit_train.shape[1], 1))\n",
        "X_credit_test_cnn_rnn = X_credit_test.values.reshape((X_credit_test.shape[0], X_credit_test.shape[1], 1))\n",
        "\n"
      ],
      "metadata": {
        "id": "pmBWTPOrvsRt"
      },
      "execution_count": 56,
      "outputs": []
    },
    {
      "cell_type": "code",
      "source": [
        "# CNN\n",
        "cnn_model = Sequential([\n",
        "    Conv1D(filters=64, kernel_size=2, activation='relu', input_shape=(X_fraud_train_cnn_rnn.shape[1], 1)),\n",
        "    MaxPooling1D(pool_size=2),\n",
        "    Flatten(),\n",
        "    Dense(100, activation='relu'),\n",
        "    Dense(1, activation='sigmoid')\n",
        "])\n",
        "train_nn_model(cnn_model, X_fraud_train_cnn_rnn, y_fraud_train, X_fraud_test_cnn_rnn, y_fraud_test, \"CNN\")\n",
        "\n"
      ],
      "metadata": {
        "colab": {
          "base_uri": "https://localhost:8080/"
        },
        "id": "kPLSj8Pdvvcs",
        "outputId": "4867e27d-e658-4e4d-cb36-d23e953e2015"
      },
      "execution_count": 57,
      "outputs": [
        {
          "output_type": "stream",
          "name": "stdout",
          "text": [
            "Epoch 1/10\n",
            "1343/1343 [==============================] - 25s 18ms/step - loss: 1533793.7500 - accuracy: 0.8282 - val_loss: 360002.2812 - val_accuracy: 0.9059\n",
            "Epoch 2/10\n",
            "1343/1343 [==============================] - 25s 19ms/step - loss: 351616.7812 - accuracy: 0.8275 - val_loss: 242404.7188 - val_accuracy: 0.9059\n",
            "Epoch 3/10\n",
            "1343/1343 [==============================] - 24s 18ms/step - loss: 113069.8281 - accuracy: 0.8272 - val_loss: 26569.8848 - val_accuracy: 0.9059\n",
            "Epoch 4/10\n",
            "1343/1343 [==============================] - 24s 18ms/step - loss: 25972.4746 - accuracy: 0.8272 - val_loss: 1477.1058 - val_accuracy: 0.9059\n",
            "Epoch 5/10\n",
            "1343/1343 [==============================] - 26s 19ms/step - loss: 4381.3154 - accuracy: 0.8281 - val_loss: 823.4095 - val_accuracy: 0.9059\n",
            "Epoch 6/10\n",
            "1343/1343 [==============================] - 23s 17ms/step - loss: 398.2293 - accuracy: 0.8248 - val_loss: 1.5730 - val_accuracy: 0.9059\n",
            "Epoch 7/10\n",
            "1343/1343 [==============================] - 25s 18ms/step - loss: 1.2325 - accuracy: 0.9003 - val_loss: 0.3131 - val_accuracy: 0.9059\n",
            "Epoch 8/10\n",
            "1343/1343 [==============================] - 22s 17ms/step - loss: 0.3135 - accuracy: 0.9054 - val_loss: 0.3124 - val_accuracy: 0.9059\n",
            "Epoch 9/10\n",
            "1343/1343 [==============================] - 25s 18ms/step - loss: 0.3137 - accuracy: 0.9054 - val_loss: 0.3125 - val_accuracy: 0.9059\n",
            "Epoch 10/10\n",
            "1343/1343 [==============================] - 23s 17ms/step - loss: 0.3139 - accuracy: 0.9054 - val_loss: 0.3122 - val_accuracy: 0.9059\n"
          ]
        },
        {
          "output_type": "stream",
          "name": "stderr",
          "text": [
            "2024/06/20 08:47:54 WARNING mlflow.tensorflow: You are saving a TensorFlow Core model or Keras model without a signature. Inference with mlflow.pyfunc.spark_udf() will not work unless the model's pyfunc representation accepts pandas DataFrames as inference inputs.\n"
          ]
        },
        {
          "output_type": "stream",
          "name": "stdout",
          "text": [
            "576/576 [==============================] - 2s 4ms/step - loss: 0.3122 - accuracy: 0.9059\n"
          ]
        }
      ]
    },
    {
      "cell_type": "code",
      "source": [
        "# CNN for Credit Card Data\n",
        "cnn_model_credit = Sequential([\n",
        "    Conv1D(filters=64, kernel_size=2, activation='relu', input_shape=(X_credit_train_cnn_rnn.shape[1], 1)),\n",
        "    MaxPooling1D(pool_size=2),\n",
        "    Flatten(),\n",
        "    Dense(100, activation='relu'),\n",
        "    Dense(1, activation='sigmoid')\n",
        "])\n",
        "train_nn_model(cnn_model_credit, X_credit_train_cnn_rnn, y_credit_train, X_credit_test_cnn_rnn, y_credit_test, \"CNN_Credit\")"
      ],
      "metadata": {
        "colab": {
          "base_uri": "https://localhost:8080/"
        },
        "id": "4CFjI3GM2OGR",
        "outputId": "4bcdecfd-f57a-4778-ef32-3db7b683266b"
      },
      "execution_count": 69,
      "outputs": [
        {
          "output_type": "stream",
          "name": "stdout",
          "text": [
            "Epoch 1/10\n",
            "2208/2208 [==============================] - 14s 6ms/step - loss: 3.6242 - accuracy: 0.9934 - val_loss: 0.3423 - val_accuracy: 0.9954\n",
            "Epoch 2/10\n",
            "2208/2208 [==============================] - 14s 6ms/step - loss: 1.0251 - accuracy: 0.9972 - val_loss: 0.1759 - val_accuracy: 0.9994\n",
            "Epoch 3/10\n",
            "2208/2208 [==============================] - 13s 6ms/step - loss: 0.1982 - accuracy: 0.9982 - val_loss: 0.0558 - val_accuracy: 0.9993\n",
            "Epoch 4/10\n",
            "2208/2208 [==============================] - 13s 6ms/step - loss: 0.0896 - accuracy: 0.9983 - val_loss: 0.0888 - val_accuracy: 0.9979\n",
            "Epoch 5/10\n",
            "2208/2208 [==============================] - 11s 5ms/step - loss: 0.0464 - accuracy: 0.9986 - val_loss: 0.0042 - val_accuracy: 0.9995\n",
            "Epoch 6/10\n",
            "2208/2208 [==============================] - 13s 6ms/step - loss: 0.1373 - accuracy: 0.9983 - val_loss: 0.1768 - val_accuracy: 0.9984\n",
            "Epoch 7/10\n",
            "2208/2208 [==============================] - 14s 7ms/step - loss: 0.0698 - accuracy: 0.9983 - val_loss: 0.0127 - val_accuracy: 0.9990\n",
            "Epoch 8/10\n",
            "2208/2208 [==============================] - 14s 6ms/step - loss: 0.0229 - accuracy: 0.9988 - val_loss: 0.0212 - val_accuracy: 0.9985\n",
            "Epoch 9/10\n",
            "2208/2208 [==============================] - 13s 6ms/step - loss: 0.0262 - accuracy: 0.9989 - val_loss: 0.0030 - val_accuracy: 0.9992\n",
            "Epoch 10/10\n",
            "2208/2208 [==============================] - 12s 5ms/step - loss: 0.1003 - accuracy: 0.9977 - val_loss: 0.0117 - val_accuracy: 0.9991\n"
          ]
        },
        {
          "output_type": "stream",
          "name": "stderr",
          "text": [
            "2024/06/20 10:13:49 WARNING mlflow.tensorflow: You are saving a TensorFlow Core model or Keras model without a signature. Inference with mlflow.pyfunc.spark_udf() will not work unless the model's pyfunc representation accepts pandas DataFrames as inference inputs.\n"
          ]
        },
        {
          "output_type": "stream",
          "name": "stdout",
          "text": [
            "947/947 [==============================] - 2s 2ms/step - loss: 0.0117 - accuracy: 0.9991\n"
          ]
        }
      ]
    },
    {
      "cell_type": "code",
      "source": [
        "# RNN\n",
        "rnn_model = Sequential([\n",
        "    SimpleRNN(100, activation='relu', input_shape=(X_fraud_train_cnn_rnn.shape[1], 1)),\n",
        "    Dense(1, activation='sigmoid')\n",
        "])\n",
        "train_nn_model(rnn_model, X_fraud_train_cnn_rnn, y_fraud_train, X_fraud_test_cnn_rnn, y_fraud_test, \"RNN\")\n",
        "\n"
      ],
      "metadata": {
        "colab": {
          "base_uri": "https://localhost:8080/"
        },
        "id": "4zs433HIv0RY",
        "outputId": "f73bcdc1-208d-45fc-af98-d4d12b12e063"
      },
      "execution_count": 58,
      "outputs": [
        {
          "output_type": "stream",
          "name": "stdout",
          "text": [
            "Epoch 1/10\n",
            "1343/1343 [==============================] - 112s 82ms/step - loss: 0.3321 - accuracy: 0.9051 - val_loss: 0.3155 - val_accuracy: 0.9059\n",
            "Epoch 2/10\n",
            "1343/1343 [==============================] - 95s 70ms/step - loss: 0.3140 - accuracy: 0.9054 - val_loss: 0.3121 - val_accuracy: 0.9059\n",
            "Epoch 3/10\n",
            "1343/1343 [==============================] - 94s 70ms/step - loss: 0.3138 - accuracy: 0.9054 - val_loss: 0.3121 - val_accuracy: 0.9059\n",
            "Epoch 4/10\n",
            "1343/1343 [==============================] - 83s 62ms/step - loss: 0.3136 - accuracy: 0.9054 - val_loss: 0.3122 - val_accuracy: 0.9059\n",
            "Epoch 5/10\n",
            "1343/1343 [==============================] - 72s 54ms/step - loss: 0.3137 - accuracy: 0.9054 - val_loss: 0.3121 - val_accuracy: 0.9059\n",
            "Epoch 6/10\n",
            "1343/1343 [==============================] - 72s 53ms/step - loss: 0.3136 - accuracy: 0.9054 - val_loss: 0.3163 - val_accuracy: 0.9059\n",
            "Epoch 7/10\n",
            "1343/1343 [==============================] - 71s 53ms/step - loss: 0.3139 - accuracy: 0.9054 - val_loss: 0.3120 - val_accuracy: 0.9059\n",
            "Epoch 8/10\n",
            "1343/1343 [==============================] - 70s 52ms/step - loss: 0.3139 - accuracy: 0.9054 - val_loss: 0.3138 - val_accuracy: 0.9059\n",
            "Epoch 9/10\n",
            "1343/1343 [==============================] - 68s 51ms/step - loss: 0.3139 - accuracy: 0.9054 - val_loss: 0.3132 - val_accuracy: 0.9059\n",
            "Epoch 10/10\n",
            "1343/1343 [==============================] - 70s 52ms/step - loss: 0.3138 - accuracy: 0.9054 - val_loss: 0.3122 - val_accuracy: 0.9059\n"
          ]
        },
        {
          "output_type": "stream",
          "name": "stderr",
          "text": [
            "2024/06/20 09:02:56 WARNING mlflow.tensorflow: You are saving a TensorFlow Core model or Keras model without a signature. Inference with mlflow.pyfunc.spark_udf() will not work unless the model's pyfunc representation accepts pandas DataFrames as inference inputs.\n"
          ]
        },
        {
          "output_type": "stream",
          "name": "stdout",
          "text": [
            "576/576 [==============================] - 10s 17ms/step - loss: 0.3122 - accuracy: 0.9059\n"
          ]
        }
      ]
    },
    {
      "cell_type": "code",
      "source": [
        "# RNN for Credit Card Data\n",
        "rnn_model_credit = Sequential([\n",
        "    SimpleRNN(100, activation='relu', input_shape=(X_credit_train_cnn_rnn.shape[1], 1)),\n",
        "    Dense(1, activation='sigmoid')\n",
        "])\n",
        "train_nn_model(rnn_model_credit, X_credit_train_cnn_rnn, y_credit_train, X_credit_test_cnn_rnn, y_credit_test, \"RNN_Credit\")"
      ],
      "metadata": {
        "colab": {
          "base_uri": "https://localhost:8080/"
        },
        "id": "iIdlf9nf2aSz",
        "outputId": "4799a6b8-80fe-4e2e-e1a9-c977b5ac8f47"
      },
      "execution_count": 68,
      "outputs": [
        {
          "output_type": "stream",
          "name": "stdout",
          "text": [
            "Epoch 1/10\n",
            "2208/2208 [==============================] - 27s 12ms/step - loss: 0.1384 - accuracy: 0.9909 - val_loss: 0.0190 - val_accuracy: 0.9979\n",
            "Epoch 2/10\n",
            "2208/2208 [==============================] - 23s 10ms/step - loss: 0.1541 - accuracy: 0.9972 - val_loss: 0.0624 - val_accuracy: 0.9979\n",
            "Epoch 3/10\n",
            "2208/2208 [==============================] - 26s 12ms/step - loss: 0.0232 - accuracy: 0.9981 - val_loss: 0.0047 - val_accuracy: 0.9989\n",
            "Epoch 4/10\n",
            "2208/2208 [==============================] - 25s 11ms/step - loss: 0.0237 - accuracy: 0.9982 - val_loss: 0.0057 - val_accuracy: 0.9992\n",
            "Epoch 5/10\n",
            "2208/2208 [==============================] - 24s 11ms/step - loss: 0.0235 - accuracy: 0.9978 - val_loss: 0.0183 - val_accuracy: 0.9980\n",
            "Epoch 6/10\n",
            "2208/2208 [==============================] - 25s 11ms/step - loss: 0.0300 - accuracy: 0.9978 - val_loss: 0.0130 - val_accuracy: 0.9979\n",
            "Epoch 7/10\n",
            "2208/2208 [==============================] - 23s 10ms/step - loss: 0.0227 - accuracy: 0.9980 - val_loss: 0.0081 - val_accuracy: 0.9981\n",
            "Epoch 8/10\n",
            "2208/2208 [==============================] - 24s 11ms/step - loss: 0.0187 - accuracy: 0.9982 - val_loss: 0.0467 - val_accuracy: 0.9983\n",
            "Epoch 9/10\n",
            "2208/2208 [==============================] - 26s 12ms/step - loss: 0.0324 - accuracy: 0.9975 - val_loss: 0.0190 - val_accuracy: 0.9982\n",
            "Epoch 10/10\n",
            "2208/2208 [==============================] - 26s 12ms/step - loss: 0.2284 - accuracy: 0.9970 - val_loss: 0.0337 - val_accuracy: 0.9979\n"
          ]
        },
        {
          "output_type": "stream",
          "name": "stderr",
          "text": [
            "2024/06/20 10:08:06 WARNING mlflow.tensorflow: You are saving a TensorFlow Core model or Keras model without a signature. Inference with mlflow.pyfunc.spark_udf() will not work unless the model's pyfunc representation accepts pandas DataFrames as inference inputs.\n"
          ]
        },
        {
          "output_type": "stream",
          "name": "stdout",
          "text": [
            "947/947 [==============================] - 5s 5ms/step - loss: 0.0337 - accuracy: 0.9979\n"
          ]
        }
      ]
    },
    {
      "cell_type": "code",
      "source": [
        "# LSTM\n",
        "lstm_model = Sequential([\n",
        "    LSTM(100, activation='relu', input_shape=(X_credit_train_cnn_rnn.shape[1], 1)),\n",
        "    Dense(1, activation='sigmoid')\n",
        "])\n",
        "train_nn_model(lstm_model, X_credit_train_cnn_rnn, y_credit_train, X_credit_test_cnn_rnn, y_credit_test, \"LSTM\")\n"
      ],
      "metadata": {
        "colab": {
          "base_uri": "https://localhost:8080/"
        },
        "id": "9hb0PtMHv1ru",
        "outputId": "09dee279-66fd-4da9-e230-8ef4806874e5"
      },
      "execution_count": 59,
      "outputs": [
        {
          "output_type": "stream",
          "name": "stdout",
          "text": [
            "Epoch 1/10\n",
            "2208/2208 [==============================] - 61s 27ms/step - loss: 17.0315 - accuracy: 0.9792 - val_loss: 1.6093 - val_accuracy: 0.9933\n",
            "Epoch 2/10\n",
            "2208/2208 [==============================] - 58s 26ms/step - loss: 10.0616 - accuracy: 0.9913 - val_loss: 0.4289 - val_accuracy: 0.9517\n",
            "Epoch 3/10\n",
            "2208/2208 [==============================] - 61s 27ms/step - loss: 0.9311 - accuracy: 0.9947 - val_loss: 0.8603 - val_accuracy: 0.9979\n",
            "Epoch 4/10\n",
            "2208/2208 [==============================] - 61s 28ms/step - loss: 0.5297 - accuracy: 0.9957 - val_loss: 0.9021 - val_accuracy: 0.9979\n",
            "Epoch 5/10\n",
            "2208/2208 [==============================] - 58s 26ms/step - loss: 7.8434 - accuracy: 0.9936 - val_loss: 3.9835 - val_accuracy: 0.9979\n",
            "Epoch 6/10\n",
            "2208/2208 [==============================] - 61s 28ms/step - loss: 31.6013 - accuracy: 0.9947 - val_loss: 7.9218 - val_accuracy: 0.9979\n",
            "Epoch 7/10\n",
            "2208/2208 [==============================] - 61s 28ms/step - loss: 3.6518 - accuracy: 0.9962 - val_loss: 2.7717 - val_accuracy: 0.9979\n",
            "Epoch 8/10\n",
            "2208/2208 [==============================] - 58s 26ms/step - loss: 3.4668 - accuracy: 0.9960 - val_loss: 1.7081 - val_accuracy: 0.9979\n",
            "Epoch 9/10\n",
            "2208/2208 [==============================] - 62s 28ms/step - loss: 2.7159 - accuracy: 0.9961 - val_loss: 1.8521 - val_accuracy: 0.9979\n",
            "Epoch 10/10\n",
            "2208/2208 [==============================] - 59s 27ms/step - loss: 5.2557 - accuracy: 0.9945 - val_loss: 0.4768 - val_accuracy: 0.9979\n"
          ]
        },
        {
          "output_type": "stream",
          "name": "stderr",
          "text": [
            "2024/06/20 09:17:13 WARNING mlflow.tensorflow: You are saving a TensorFlow Core model or Keras model without a signature. Inference with mlflow.pyfunc.spark_udf() will not work unless the model's pyfunc representation accepts pandas DataFrames as inference inputs.\n"
          ]
        },
        {
          "output_type": "stream",
          "name": "stdout",
          "text": [
            "947/947 [==============================] - 9s 9ms/step - loss: 0.4768 - accuracy: 0.9979\n"
          ]
        }
      ]
    },
    {
      "cell_type": "code",
      "source": [
        "# Corrected LSTM Model\n",
        "lstm_model = Sequential([\n",
        "    LSTM(100, activation='relu', input_shape=(X_fraud_train_cnn_rnn.shape[1], 1)),\n",
        "    Dense(1, activation='sigmoid')\n",
        "])\n",
        "\n",
        "train_nn_model(lstm_model, X_fraud_train_cnn_rnn, y_fraud_train, X_fraud_test_cnn_rnn, y_fraud_test, \"LSTM\")\n"
      ],
      "metadata": {
        "colab": {
          "base_uri": "https://localhost:8080/"
        },
        "id": "PLQLMnl82hsw",
        "outputId": "c36db034-1988-4898-f492-28cac84a4a15"
      },
      "execution_count": 67,
      "outputs": [
        {
          "output_type": "stream",
          "name": "stdout",
          "text": [
            "Epoch 1/10\n",
            "1343/1343 [==============================] - 196s 145ms/step - loss: nan - accuracy: 0.9010 - val_loss: nan - val_accuracy: 0.9059\n",
            "Epoch 2/10\n",
            "1343/1343 [==============================] - 207s 154ms/step - loss: nan - accuracy: 0.9054 - val_loss: nan - val_accuracy: 0.9059\n",
            "Epoch 3/10\n",
            "1343/1343 [==============================] - 207s 154ms/step - loss: nan - accuracy: 0.9054 - val_loss: nan - val_accuracy: 0.9059\n",
            "Epoch 4/10\n",
            "1343/1343 [==============================] - 208s 155ms/step - loss: nan - accuracy: 0.9054 - val_loss: nan - val_accuracy: 0.9059\n",
            "Epoch 5/10\n",
            "1343/1343 [==============================] - 208s 155ms/step - loss: nan - accuracy: 0.9054 - val_loss: nan - val_accuracy: 0.9059\n",
            "Epoch 6/10\n",
            "1343/1343 [==============================] - 209s 155ms/step - loss: nan - accuracy: 0.9054 - val_loss: nan - val_accuracy: 0.9059\n",
            "Epoch 7/10\n",
            "1343/1343 [==============================] - 208s 155ms/step - loss: nan - accuracy: 0.9054 - val_loss: nan - val_accuracy: 0.9059\n",
            "Epoch 8/10\n",
            "1343/1343 [==============================] - 215s 160ms/step - loss: nan - accuracy: 0.9054 - val_loss: nan - val_accuracy: 0.9059\n",
            "Epoch 9/10\n",
            "1343/1343 [==============================] - 217s 162ms/step - loss: nan - accuracy: 0.9054 - val_loss: nan - val_accuracy: 0.9059\n",
            "Epoch 10/10\n",
            "1343/1343 [==============================] - 213s 159ms/step - loss: nan - accuracy: 0.9054 - val_loss: nan - val_accuracy: 0.9059\n"
          ]
        },
        {
          "output_type": "stream",
          "name": "stderr",
          "text": [
            "2024/06/20 10:02:24 WARNING mlflow.tensorflow: You are saving a TensorFlow Core model or Keras model without a signature. Inference with mlflow.pyfunc.spark_udf() will not work unless the model's pyfunc representation accepts pandas DataFrames as inference inputs.\n"
          ]
        },
        {
          "output_type": "stream",
          "name": "stdout",
          "text": [
            "576/576 [==============================] - 27s 47ms/step - loss: nan - accuracy: 0.9059\n"
          ]
        }
      ]
    }
  ]
}